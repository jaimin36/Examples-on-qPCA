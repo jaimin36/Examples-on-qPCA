{
 "cells": [
  {
   "cell_type": "code",
   "execution_count": 4,
   "metadata": {},
   "outputs": [],
   "source": [
    "# initialization\n",
    "from qiskit import *\n",
    "import numpy as np\n",
    "from math import pi\n",
    "# importing Qiskit\n",
    "from qiskit import IBMQ, Aer,ClassicalRegister\n",
    "from qiskit import QuantumCircuit, assemble, transpile\n",
    "\n",
    "# import basic plot tools\n",
    "from qiskit.visualization import plot_histogram"
   ]
  },
  {
   "cell_type": "code",
   "execution_count": 5,
   "metadata": {},
   "outputs": [
    {
     "data": {
      "image/png": "[encoded data removed]",
      "text/plain": [
       "<Figure size 504x360 with 1 Axes>"
      ]
     },
     "execution_count": 5,
     "metadata": {},
     "output_type": "execute_result"
    }
   ],
   "source": [
    "#my improved algorithm for specific case, given co-relation matrix A=diag(0 1 2 3)\n",
    "#in this case q2 has higher value than q1\n",
    "#perfect\n",
    "\n",
    "#initialization (Improved)\n",
    "qc_init=QuantumCircuit(8,8)\n",
    "qc_init.x(3)\n",
    "qc_init.ry(2.6,6)\n",
    "qc_init.x(6)\n",
    "qc_init.cx(6,5)\n",
    "qc_init.x(6)\n",
    "qc_init.cu3(1.96,0,0,6,5)\n",
    "qc_init.x(5)\n",
    "qc_init.ccx(6,5,4)\n",
    "qc_init.ccx(6,5,3)\n",
    "qc_init.x(5)\n",
    "qc_init.ccx(6,5,4)\n",
    "qc_init.barrier()\n",
    "#qc_init.draw('mpl')\n",
    "\n",
    "#------------------------------------------\n",
    "#Phase Estimation (Improved)\n",
    "\n",
    "qc_PE=QuantumCircuit(8,8)\n",
    "qc_PE.barrier()\n",
    "qc_PE.h(1)\n",
    "qc_PE.h(2)\n",
    "\n",
    "qc_PE.cz(1,6)\n",
    "qc_PE.cu1(pi/2,1,5)\n",
    "\n",
    "qc_PE.cz(2,5)\n",
    "\n",
    "qc_PE.swap(1,2)\n",
    "qc_PE.h(1)\n",
    "qc_PE.cu1(-pi/2,1,2)\n",
    "qc_PE.h(2)\n",
    "qc_PE.barrier()\n",
    "#qc_PE.draw('mpl')\n",
    "\n",
    "#------------------------------------------\n",
    "#thresholding (no change)\n",
    "\n",
    "qc_CU=QuantumCircuit(8,8)\n",
    "qc_CU.x(2)\n",
    "qc_CU.ccx(1,2,7)\n",
    "qc_CU.x(2)\n",
    "qc_CU.cx(7,1)\n",
    "qc_CU.barrier()\n",
    "#qc_CU.draw('mpl')\n",
    "\n",
    "#-------------------------------------\n",
    "\n",
    "#threshold tau=1.8, meaning eigenvalues greater than tau are as it is and less than tau are 00\n",
    "#controlled rotation\n",
    "\n",
    "qc_CR=QuantumCircuit(8,8)\n",
    "qc_CR.x(1)\n",
    "qc_CR.x(2)\n",
    "qc_CR.ccx(1,2,0)\n",
    "qc_CR.x(1)\n",
    "qc_CR.x(2)\n",
    "qc_CR.x(0)\n",
    "qc_CR.barrier()\n",
    "#qc_CR.draw('mpl')\n",
    "\n",
    "#-----------------------------------\n",
    "#assembling\n",
    "qc=qc_init+qc_PE#+qc_CU+qc_CR+qc_CU.inverse()+qc_PE.inverse()\n",
    "qc.draw('mpl')\n",
    "for i in range(8):\n",
    "    qc.measure(i,i)\n",
    "#qc.draw('mpl') \n",
    "\n",
    "\n",
    "#-------------------------------------\n",
    "#measurement on qasm simulator\n",
    "\n",
    "qasm_sim = Aer.get_backend('qasm_simulator')\n",
    "shots = 2048\n",
    "qobj = assemble(qc, qasm_sim)\n",
    "results = qasm_sim.run(qobj).result()\n",
    "answer = results.get_counts()\n",
    "plot_histogram(answer)"
   ]
  },
  {
   "cell_type": "code",
   "execution_count": null,
   "metadata": {},
   "outputs": [],
   "source": []
  }
 ],
 "metadata": {
  "kernelspec": {
   "display_name": "Python 3",
   "language": "python",
   "name": "python3"
  },
  "language_info": {
   "codemirror_mode": {
    "name": "ipython",
    "version": 3
   },
   "file_extension": ".py",
   "mimetype": "text/x-python",
   "name": "python",
   "nbconvert_exporter": "python",
   "pygments_lexer": "ipython3",
   "version": "3.7.3"
  }
 },
 "nbformat": 4,
 "nbformat_minor": 2
}
